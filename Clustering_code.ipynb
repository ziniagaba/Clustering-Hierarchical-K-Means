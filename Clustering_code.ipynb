{
 "cells": [
  {
   "cell_type": "code",
   "execution_count": 199,
   "metadata": {},
   "outputs": [
    {
     "data": {
      "text/plain": [
       "<module 'seaborn.palettes' from 'C:\\\\Users\\\\Zinia Gaba\\\\anaconda3\\\\lib\\\\site-packages\\\\seaborn\\\\palettes.py'>"
      ]
     },
     "execution_count": 199,
     "metadata": {},
     "output_type": "execute_result"
    }
   ],
   "source": [
    "import pandas as pd\n",
    "import numpy as np\n",
    "import seaborn as sns\n",
    "import matplotlib.pyplot as plt\n",
    "import scipy.stats as stats\n",
    "import scipy.cluster.hierarchy as hierarchy\n",
    "from scipy.cluster.hierarchy import dendrogram, linkage\n",
    "from scipy.cluster.hierarchy import fcluster\n",
    "from sklearn.cluster import KMeans\n",
    "from sklearn.metrics import silhouette_score , silhouette_samples\n",
    "from sklearn.preprocessing import StandardScaler\n",
    "from sklearn.preprocessing import MinMaxScaler\n",
    "sns.set_style('dark')\n",
    "sns.palettes"
   ]
  },
  {
   "cell_type": "markdown",
   "metadata": {},
   "source": [
    "## Hierarchial Clustering"
   ]
  },
  {
   "cell_type": "code",
   "execution_count": 198,
   "metadata": {},
   "outputs": [
    {
     "data": {
      "text/html": [
       "<div>\n",
       "<style scoped>\n",
       "    .dataframe tbody tr th:only-of-type {\n",
       "        vertical-align: middle;\n",
       "    }\n",
       "\n",
       "    .dataframe tbody tr th {\n",
       "        vertical-align: top;\n",
       "    }\n",
       "\n",
       "    .dataframe thead th {\n",
       "        text-align: right;\n",
       "    }\n",
       "</style>\n",
       "<table border=\"1\" class=\"dataframe\">\n",
       "  <thead>\n",
       "    <tr style=\"text-align: right;\">\n",
       "      <th></th>\n",
       "      <th>Unnamed: 0</th>\n",
       "      <th>States</th>\n",
       "      <th>Health_indeces1</th>\n",
       "      <th>Health_indices2</th>\n",
       "      <th>Per_capita_income</th>\n",
       "      <th>GDP</th>\n",
       "    </tr>\n",
       "  </thead>\n",
       "  <tbody>\n",
       "    <tr>\n",
       "      <th>0</th>\n",
       "      <td>0</td>\n",
       "      <td>Bachevo</td>\n",
       "      <td>417</td>\n",
       "      <td>66</td>\n",
       "      <td>564</td>\n",
       "      <td>1823</td>\n",
       "    </tr>\n",
       "    <tr>\n",
       "      <th>1</th>\n",
       "      <td>1</td>\n",
       "      <td>Balgarchevo</td>\n",
       "      <td>1485</td>\n",
       "      <td>646</td>\n",
       "      <td>2710</td>\n",
       "      <td>73662</td>\n",
       "    </tr>\n",
       "    <tr>\n",
       "      <th>2</th>\n",
       "      <td>2</td>\n",
       "      <td>Belasitsa</td>\n",
       "      <td>654</td>\n",
       "      <td>299</td>\n",
       "      <td>1104</td>\n",
       "      <td>27318</td>\n",
       "    </tr>\n",
       "    <tr>\n",
       "      <th>3</th>\n",
       "      <td>3</td>\n",
       "      <td>Belo_Pole</td>\n",
       "      <td>192</td>\n",
       "      <td>25</td>\n",
       "      <td>573</td>\n",
       "      <td>250</td>\n",
       "    </tr>\n",
       "    <tr>\n",
       "      <th>4</th>\n",
       "      <td>4</td>\n",
       "      <td>Beslen</td>\n",
       "      <td>43</td>\n",
       "      <td>8</td>\n",
       "      <td>528</td>\n",
       "      <td>22</td>\n",
       "    </tr>\n",
       "    <tr>\n",
       "      <th>...</th>\n",
       "      <td>...</td>\n",
       "      <td>...</td>\n",
       "      <td>...</td>\n",
       "      <td>...</td>\n",
       "      <td>...</td>\n",
       "      <td>...</td>\n",
       "    </tr>\n",
       "    <tr>\n",
       "      <th>292</th>\n",
       "      <td>292</td>\n",
       "      <td>Greencastle</td>\n",
       "      <td>3443</td>\n",
       "      <td>970</td>\n",
       "      <td>2499</td>\n",
       "      <td>238636</td>\n",
       "    </tr>\n",
       "    <tr>\n",
       "      <th>293</th>\n",
       "      <td>293</td>\n",
       "      <td>Greenisland</td>\n",
       "      <td>2963</td>\n",
       "      <td>793</td>\n",
       "      <td>1257</td>\n",
       "      <td>162831</td>\n",
       "    </tr>\n",
       "    <tr>\n",
       "      <th>294</th>\n",
       "      <td>294</td>\n",
       "      <td>Greyabbey</td>\n",
       "      <td>3276</td>\n",
       "      <td>609</td>\n",
       "      <td>1522</td>\n",
       "      <td>120184</td>\n",
       "    </tr>\n",
       "    <tr>\n",
       "      <th>295</th>\n",
       "      <td>295</td>\n",
       "      <td>Greysteel</td>\n",
       "      <td>3463</td>\n",
       "      <td>847</td>\n",
       "      <td>934</td>\n",
       "      <td>199403</td>\n",
       "    </tr>\n",
       "    <tr>\n",
       "      <th>296</th>\n",
       "      <td>296</td>\n",
       "      <td>Groggan</td>\n",
       "      <td>2070</td>\n",
       "      <td>838</td>\n",
       "      <td>3179</td>\n",
       "      <td>166767</td>\n",
       "    </tr>\n",
       "  </tbody>\n",
       "</table>\n",
       "<p>297 rows × 6 columns</p>\n",
       "</div>"
      ],
      "text/plain": [
       "     Unnamed: 0       States  Health_indeces1  Health_indices2  \\\n",
       "0             0      Bachevo              417               66   \n",
       "1             1  Balgarchevo             1485              646   \n",
       "2             2    Belasitsa              654              299   \n",
       "3             3    Belo_Pole              192               25   \n",
       "4             4       Beslen               43                8   \n",
       "..          ...          ...              ...              ...   \n",
       "292         292  Greencastle             3443              970   \n",
       "293         293  Greenisland             2963              793   \n",
       "294         294    Greyabbey             3276              609   \n",
       "295         295    Greysteel             3463              847   \n",
       "296         296      Groggan             2070              838   \n",
       "\n",
       "     Per_capita_income     GDP  \n",
       "0                  564    1823  \n",
       "1                 2710   73662  \n",
       "2                 1104   27318  \n",
       "3                  573     250  \n",
       "4                  528      22  \n",
       "..                 ...     ...  \n",
       "292               2499  238636  \n",
       "293               1257  162831  \n",
       "294               1522  120184  \n",
       "295                934  199403  \n",
       "296               3179  166767  \n",
       "\n",
       "[297 rows x 6 columns]"
      ]
     },
     "execution_count": 198,
     "metadata": {},
     "output_type": "execute_result"
    }
   ],
   "source": [
    "df=pd.read_csv('State_wise_Health_income-1.csv')\n",
    "df"
   ]
  },
  {
   "cell_type": "code",
   "execution_count": 231,
   "metadata": {},
   "outputs": [],
   "source": [
    "df_org=pd.read_csv('State_wise_Health_income-1.csv')"
   ]
  },
  {
   "cell_type": "code",
   "execution_count": 200,
   "metadata": {},
   "outputs": [],
   "source": [
    "df.drop('States', axis=1, inplace= True)"
   ]
  },
  {
   "cell_type": "code",
   "execution_count": 201,
   "metadata": {},
   "outputs": [],
   "source": [
    "df.drop('Unnamed: 0', axis=1, inplace= True)"
   ]
  },
  {
   "cell_type": "code",
   "execution_count": 202,
   "metadata": {},
   "outputs": [
    {
     "data": {
      "text/html": [
       "<div>\n",
       "<style scoped>\n",
       "    .dataframe tbody tr th:only-of-type {\n",
       "        vertical-align: middle;\n",
       "    }\n",
       "\n",
       "    .dataframe tbody tr th {\n",
       "        vertical-align: top;\n",
       "    }\n",
       "\n",
       "    .dataframe thead th {\n",
       "        text-align: right;\n",
       "    }\n",
       "</style>\n",
       "<table border=\"1\" class=\"dataframe\">\n",
       "  <thead>\n",
       "    <tr style=\"text-align: right;\">\n",
       "      <th></th>\n",
       "      <th>Health_indeces1</th>\n",
       "      <th>Health_indices2</th>\n",
       "      <th>Per_capita_income</th>\n",
       "      <th>GDP</th>\n",
       "    </tr>\n",
       "  </thead>\n",
       "  <tbody>\n",
       "    <tr>\n",
       "      <th>0</th>\n",
       "      <td>417</td>\n",
       "      <td>66</td>\n",
       "      <td>564</td>\n",
       "      <td>1823</td>\n",
       "    </tr>\n",
       "    <tr>\n",
       "      <th>1</th>\n",
       "      <td>1485</td>\n",
       "      <td>646</td>\n",
       "      <td>2710</td>\n",
       "      <td>73662</td>\n",
       "    </tr>\n",
       "    <tr>\n",
       "      <th>2</th>\n",
       "      <td>654</td>\n",
       "      <td>299</td>\n",
       "      <td>1104</td>\n",
       "      <td>27318</td>\n",
       "    </tr>\n",
       "    <tr>\n",
       "      <th>3</th>\n",
       "      <td>192</td>\n",
       "      <td>25</td>\n",
       "      <td>573</td>\n",
       "      <td>250</td>\n",
       "    </tr>\n",
       "    <tr>\n",
       "      <th>4</th>\n",
       "      <td>43</td>\n",
       "      <td>8</td>\n",
       "      <td>528</td>\n",
       "      <td>22</td>\n",
       "    </tr>\n",
       "    <tr>\n",
       "      <th>...</th>\n",
       "      <td>...</td>\n",
       "      <td>...</td>\n",
       "      <td>...</td>\n",
       "      <td>...</td>\n",
       "    </tr>\n",
       "    <tr>\n",
       "      <th>292</th>\n",
       "      <td>3443</td>\n",
       "      <td>970</td>\n",
       "      <td>2499</td>\n",
       "      <td>238636</td>\n",
       "    </tr>\n",
       "    <tr>\n",
       "      <th>293</th>\n",
       "      <td>2963</td>\n",
       "      <td>793</td>\n",
       "      <td>1257</td>\n",
       "      <td>162831</td>\n",
       "    </tr>\n",
       "    <tr>\n",
       "      <th>294</th>\n",
       "      <td>3276</td>\n",
       "      <td>609</td>\n",
       "      <td>1522</td>\n",
       "      <td>120184</td>\n",
       "    </tr>\n",
       "    <tr>\n",
       "      <th>295</th>\n",
       "      <td>3463</td>\n",
       "      <td>847</td>\n",
       "      <td>934</td>\n",
       "      <td>199403</td>\n",
       "    </tr>\n",
       "    <tr>\n",
       "      <th>296</th>\n",
       "      <td>2070</td>\n",
       "      <td>838</td>\n",
       "      <td>3179</td>\n",
       "      <td>166767</td>\n",
       "    </tr>\n",
       "  </tbody>\n",
       "</table>\n",
       "<p>297 rows × 4 columns</p>\n",
       "</div>"
      ],
      "text/plain": [
       "     Health_indeces1  Health_indices2  Per_capita_income     GDP\n",
       "0                417               66                564    1823\n",
       "1               1485              646               2710   73662\n",
       "2                654              299               1104   27318\n",
       "3                192               25                573     250\n",
       "4                 43                8                528      22\n",
       "..               ...              ...                ...     ...\n",
       "292             3443              970               2499  238636\n",
       "293             2963              793               1257  162831\n",
       "294             3276              609               1522  120184\n",
       "295             3463              847                934  199403\n",
       "296             2070              838               3179  166767\n",
       "\n",
       "[297 rows x 4 columns]"
      ]
     },
     "execution_count": 202,
     "metadata": {},
     "output_type": "execute_result"
    }
   ],
   "source": [
    "df"
   ]
  },
  {
   "cell_type": "code",
   "execution_count": 203,
   "metadata": {},
   "outputs": [
    {
     "data": {
      "text/html": [
       "<div>\n",
       "<style scoped>\n",
       "    .dataframe tbody tr th:only-of-type {\n",
       "        vertical-align: middle;\n",
       "    }\n",
       "\n",
       "    .dataframe tbody tr th {\n",
       "        vertical-align: top;\n",
       "    }\n",
       "\n",
       "    .dataframe thead th {\n",
       "        text-align: right;\n",
       "    }\n",
       "</style>\n",
       "<table border=\"1\" class=\"dataframe\">\n",
       "  <thead>\n",
       "    <tr style=\"text-align: right;\">\n",
       "      <th></th>\n",
       "      <th>Health_indeces1</th>\n",
       "      <th>Health_indices2</th>\n",
       "      <th>Per_capita_income</th>\n",
       "      <th>GDP</th>\n",
       "    </tr>\n",
       "  </thead>\n",
       "  <tbody>\n",
       "    <tr>\n",
       "      <th>count</th>\n",
       "      <td>297.000000</td>\n",
       "      <td>297.000000</td>\n",
       "      <td>297.000000</td>\n",
       "      <td>297.000000</td>\n",
       "    </tr>\n",
       "    <tr>\n",
       "      <th>mean</th>\n",
       "      <td>2630.151515</td>\n",
       "      <td>693.632997</td>\n",
       "      <td>2156.915825</td>\n",
       "      <td>174601.117845</td>\n",
       "    </tr>\n",
       "    <tr>\n",
       "      <th>std</th>\n",
       "      <td>2038.505431</td>\n",
       "      <td>468.944354</td>\n",
       "      <td>1491.854058</td>\n",
       "      <td>167167.992863</td>\n",
       "    </tr>\n",
       "    <tr>\n",
       "      <th>min</th>\n",
       "      <td>-10.000000</td>\n",
       "      <td>0.000000</td>\n",
       "      <td>500.000000</td>\n",
       "      <td>22.000000</td>\n",
       "    </tr>\n",
       "    <tr>\n",
       "      <th>25%</th>\n",
       "      <td>641.000000</td>\n",
       "      <td>175.000000</td>\n",
       "      <td>751.000000</td>\n",
       "      <td>8721.000000</td>\n",
       "    </tr>\n",
       "    <tr>\n",
       "      <th>50%</th>\n",
       "      <td>2451.000000</td>\n",
       "      <td>810.000000</td>\n",
       "      <td>1865.000000</td>\n",
       "      <td>137173.000000</td>\n",
       "    </tr>\n",
       "    <tr>\n",
       "      <th>75%</th>\n",
       "      <td>4094.000000</td>\n",
       "      <td>1073.000000</td>\n",
       "      <td>3137.000000</td>\n",
       "      <td>313092.000000</td>\n",
       "    </tr>\n",
       "    <tr>\n",
       "      <th>max</th>\n",
       "      <td>10219.000000</td>\n",
       "      <td>1508.000000</td>\n",
       "      <td>7049.000000</td>\n",
       "      <td>728575.000000</td>\n",
       "    </tr>\n",
       "  </tbody>\n",
       "</table>\n",
       "</div>"
      ],
      "text/plain": [
       "       Health_indeces1  Health_indices2  Per_capita_income            GDP\n",
       "count       297.000000       297.000000         297.000000     297.000000\n",
       "mean       2630.151515       693.632997        2156.915825  174601.117845\n",
       "std        2038.505431       468.944354        1491.854058  167167.992863\n",
       "min         -10.000000         0.000000         500.000000      22.000000\n",
       "25%         641.000000       175.000000         751.000000    8721.000000\n",
       "50%        2451.000000       810.000000        1865.000000  137173.000000\n",
       "75%        4094.000000      1073.000000        3137.000000  313092.000000\n",
       "max       10219.000000      1508.000000        7049.000000  728575.000000"
      ]
     },
     "execution_count": 203,
     "metadata": {},
     "output_type": "execute_result"
    }
   ],
   "source": [
    "df.describe()"
   ]
  },
  {
   "cell_type": "code",
   "execution_count": 204,
   "metadata": {},
   "outputs": [
    {
     "name": "stdout",
     "output_type": "stream",
     "text": [
      "<class 'pandas.core.frame.DataFrame'>\n",
      "RangeIndex: 297 entries, 0 to 296\n",
      "Data columns (total 4 columns):\n",
      " #   Column             Non-Null Count  Dtype\n",
      "---  ------             --------------  -----\n",
      " 0   Health_indeces1    297 non-null    int64\n",
      " 1   Health_indices2    297 non-null    int64\n",
      " 2   Per_capita_income  297 non-null    int64\n",
      " 3   GDP                297 non-null    int64\n",
      "dtypes: int64(4)\n",
      "memory usage: 9.4 KB\n"
     ]
    }
   ],
   "source": [
    "df.info()"
   ]
  },
  {
   "cell_type": "code",
   "execution_count": 206,
   "metadata": {},
   "outputs": [
    {
     "data": {
      "text/plain": [
       "Health_indeces1      0\n",
       "Health_indices2      0\n",
       "Per_capita_income    0\n",
       "GDP                  0\n",
       "dtype: int64"
      ]
     },
     "execution_count": 206,
     "metadata": {},
     "output_type": "execute_result"
    }
   ],
   "source": [
    "df.isnull().sum()"
   ]
  },
  {
   "cell_type": "code",
   "execution_count": 207,
   "metadata": {},
   "outputs": [
    {
     "data": {
      "text/plain": [
       "(297, 4)"
      ]
     },
     "execution_count": 207,
     "metadata": {},
     "output_type": "execute_result"
    }
   ],
   "source": [
    "df.shape"
   ]
  },
  {
   "cell_type": "code",
   "execution_count": 208,
   "metadata": {},
   "outputs": [
    {
     "data": {
      "text/plain": [
       "<matplotlib.axes._subplots.AxesSubplot at 0x2960d35f4c8>"
      ]
     },
     "execution_count": 208,
     "metadata": {},
     "output_type": "execute_result"
    },
    {
     "data": {
      "image/png": "[encoded data removed]",
      "text/plain": [
       "<Figure size 1080x144 with 4 Axes>"
      ]
     },
     "metadata": {},
     "output_type": "display_data"
    }
   ],
   "source": [
    "plt.figure(figsize = (15,2))\n",
    "sns.set_style('white')\n",
    "plt.subplot(141)\n",
    "sns.boxplot(df['Health_indeces1'])\n",
    "plt.subplot(142)\n",
    "sns.boxplot(df['Health_indices2'])\n",
    "plt.subplot(143)\n",
    "sns.boxplot(df['Per_capita_income'])\n",
    "plt.subplot(144)\n",
    "sns.boxplot(df['GDP'])"
   ]
  },
  {
   "cell_type": "code",
   "execution_count": 209,
   "metadata": {},
   "outputs": [],
   "source": [
    "Q3H1= np.percentile(df['Health_indeces1'], 75)\n",
    "Q1H1= np.percentile(df['Health_indeces1'], 25)\n",
    "IQRH1 = np.percentile(df['Health_indeces1'], 75)-np.percentile(df['Health_indeces1'], 25)"
   ]
  },
  {
   "cell_type": "code",
   "execution_count": 210,
   "metadata": {},
   "outputs": [],
   "source": [
    "Q3I = np.percentile(df['Per_capita_income'], 75)\n",
    "Q1I = np.percentile(df['Per_capita_income'], 25)\n",
    "IQRI = np.percentile(df['Per_capita_income'], 75) - np.percentile(df['Per_capita_income'], 25)"
   ]
  },
  {
   "cell_type": "code",
   "execution_count": 211,
   "metadata": {},
   "outputs": [],
   "source": [
    "df.loc [ df['Health_indeces1'] > 1.5*IQRH1 + Q3H1 , 'Health_indeces1'] = df['Health_indeces1'].median()"
   ]
  },
  {
   "cell_type": "code",
   "execution_count": 212,
   "metadata": {},
   "outputs": [],
   "source": [
    "df.loc [ df['Per_capita_income'] > 1.5*IQRI + Q3I , 'Per_capita_income'] = df['Per_capita_income'].median()"
   ]
  },
  {
   "cell_type": "code",
   "execution_count": 213,
   "metadata": {},
   "outputs": [],
   "source": [
    "df=pd.DataFrame(stats.zscore(df) ,columns = ('Health_indeces1' , 'Health_indices2' ,'Per_capita_income' , 'GDP'))"
   ]
  },
  {
   "cell_type": "code",
   "execution_count": 214,
   "metadata": {},
   "outputs": [
    {
     "data": {
      "text/html": [
       "<div>\n",
       "<style scoped>\n",
       "    .dataframe tbody tr th:only-of-type {\n",
       "        vertical-align: middle;\n",
       "    }\n",
       "\n",
       "    .dataframe tbody tr th {\n",
       "        vertical-align: top;\n",
       "    }\n",
       "\n",
       "    .dataframe thead th {\n",
       "        text-align: right;\n",
       "    }\n",
       "</style>\n",
       "<table border=\"1\" class=\"dataframe\">\n",
       "  <thead>\n",
       "    <tr style=\"text-align: right;\">\n",
       "      <th></th>\n",
       "      <th>Health_indeces1</th>\n",
       "      <th>Health_indices2</th>\n",
       "      <th>Per_capita_income</th>\n",
       "      <th>GDP</th>\n",
       "    </tr>\n",
       "  </thead>\n",
       "  <tbody>\n",
       "    <tr>\n",
       "      <th>count</th>\n",
       "      <td>2.970000e+02</td>\n",
       "      <td>2.970000e+02</td>\n",
       "      <td>2.970000e+02</td>\n",
       "      <td>2.970000e+02</td>\n",
       "    </tr>\n",
       "    <tr>\n",
       "      <th>mean</th>\n",
       "      <td>2.130731e-16</td>\n",
       "      <td>1.252272e-17</td>\n",
       "      <td>2.306423e-16</td>\n",
       "      <td>8.032295e-17</td>\n",
       "    </tr>\n",
       "    <tr>\n",
       "      <th>std</th>\n",
       "      <td>1.001688e+00</td>\n",
       "      <td>1.001688e+00</td>\n",
       "      <td>1.001688e+00</td>\n",
       "      <td>1.001688e+00</td>\n",
       "    </tr>\n",
       "    <tr>\n",
       "      <th>min</th>\n",
       "      <td>-1.330536e+00</td>\n",
       "      <td>-1.481634e+00</td>\n",
       "      <td>-1.121358e+00</td>\n",
       "      <td>-1.046096e+00</td>\n",
       "    </tr>\n",
       "    <tr>\n",
       "      <th>25%</th>\n",
       "      <td>-9.961798e-01</td>\n",
       "      <td>-1.107825e+00</td>\n",
       "      <td>-9.496794e-01</td>\n",
       "      <td>-9.939707e-01</td>\n",
       "    </tr>\n",
       "    <tr>\n",
       "      <th>50%</th>\n",
       "      <td>-6.655748e-02</td>\n",
       "      <td>2.485655e-01</td>\n",
       "      <td>-1.877260e-01</td>\n",
       "      <td>-2.242731e-01</td>\n",
       "    </tr>\n",
       "    <tr>\n",
       "      <th>75%</th>\n",
       "      <td>7.475040e-01</td>\n",
       "      <td>8.103462e-01</td>\n",
       "      <td>6.672487e-01</td>\n",
       "      <td>8.298516e-01</td>\n",
       "    </tr>\n",
       "    <tr>\n",
       "      <th>max</th>\n",
       "      <td>3.195338e+00</td>\n",
       "      <td>1.739527e+00</td>\n",
       "      <td>2.642582e+00</td>\n",
       "      <td>3.319468e+00</td>\n",
       "    </tr>\n",
       "  </tbody>\n",
       "</table>\n",
       "</div>"
      ],
      "text/plain": [
       "       Health_indeces1  Health_indices2  Per_capita_income           GDP\n",
       "count     2.970000e+02     2.970000e+02       2.970000e+02  2.970000e+02\n",
       "mean      2.130731e-16     1.252272e-17       2.306423e-16  8.032295e-17\n",
       "std       1.001688e+00     1.001688e+00       1.001688e+00  1.001688e+00\n",
       "min      -1.330536e+00    -1.481634e+00      -1.121358e+00 -1.046096e+00\n",
       "25%      -9.961798e-01    -1.107825e+00      -9.496794e-01 -9.939707e-01\n",
       "50%      -6.655748e-02     2.485655e-01      -1.877260e-01 -2.242731e-01\n",
       "75%       7.475040e-01     8.103462e-01       6.672487e-01  8.298516e-01\n",
       "max       3.195338e+00     1.739527e+00       2.642582e+00  3.319468e+00"
      ]
     },
     "execution_count": 214,
     "metadata": {},
     "output_type": "execute_result"
    }
   ],
   "source": [
    "df.describe()"
   ]
  },
  {
   "cell_type": "code",
   "execution_count": 215,
   "metadata": {},
   "outputs": [
    {
     "data": {
      "text/html": [
       "<div>\n",
       "<style scoped>\n",
       "    .dataframe tbody tr th:only-of-type {\n",
       "        vertical-align: middle;\n",
       "    }\n",
       "\n",
       "    .dataframe tbody tr th {\n",
       "        vertical-align: top;\n",
       "    }\n",
       "\n",
       "    .dataframe thead th {\n",
       "        text-align: right;\n",
       "    }\n",
       "</style>\n",
       "<table border=\"1\" class=\"dataframe\">\n",
       "  <thead>\n",
       "    <tr style=\"text-align: right;\">\n",
       "      <th></th>\n",
       "      <th>Health_indeces1</th>\n",
       "      <th>Health_indices2</th>\n",
       "      <th>Per_capita_income</th>\n",
       "      <th>GDP</th>\n",
       "    </tr>\n",
       "  </thead>\n",
       "  <tbody>\n",
       "    <tr>\n",
       "      <th>count</th>\n",
       "      <td>2.970000e+02</td>\n",
       "      <td>2.970000e+02</td>\n",
       "      <td>2.970000e+02</td>\n",
       "      <td>2.970000e+02</td>\n",
       "    </tr>\n",
       "    <tr>\n",
       "      <th>mean</th>\n",
       "      <td>2.130731e-16</td>\n",
       "      <td>1.252272e-17</td>\n",
       "      <td>2.306423e-16</td>\n",
       "      <td>8.032295e-17</td>\n",
       "    </tr>\n",
       "    <tr>\n",
       "      <th>std</th>\n",
       "      <td>1.001688e+00</td>\n",
       "      <td>1.001688e+00</td>\n",
       "      <td>1.001688e+00</td>\n",
       "      <td>1.001688e+00</td>\n",
       "    </tr>\n",
       "    <tr>\n",
       "      <th>min</th>\n",
       "      <td>-1.330536e+00</td>\n",
       "      <td>-1.481634e+00</td>\n",
       "      <td>-1.121358e+00</td>\n",
       "      <td>-1.046096e+00</td>\n",
       "    </tr>\n",
       "    <tr>\n",
       "      <th>25%</th>\n",
       "      <td>-9.961798e-01</td>\n",
       "      <td>-1.107825e+00</td>\n",
       "      <td>-9.496794e-01</td>\n",
       "      <td>-9.939707e-01</td>\n",
       "    </tr>\n",
       "    <tr>\n",
       "      <th>50%</th>\n",
       "      <td>-6.655748e-02</td>\n",
       "      <td>2.485655e-01</td>\n",
       "      <td>-1.877260e-01</td>\n",
       "      <td>-2.242731e-01</td>\n",
       "    </tr>\n",
       "    <tr>\n",
       "      <th>75%</th>\n",
       "      <td>7.475040e-01</td>\n",
       "      <td>8.103462e-01</td>\n",
       "      <td>6.672487e-01</td>\n",
       "      <td>8.298516e-01</td>\n",
       "    </tr>\n",
       "    <tr>\n",
       "      <th>max</th>\n",
       "      <td>3.195338e+00</td>\n",
       "      <td>1.739527e+00</td>\n",
       "      <td>2.642582e+00</td>\n",
       "      <td>3.319468e+00</td>\n",
       "    </tr>\n",
       "  </tbody>\n",
       "</table>\n",
       "</div>"
      ],
      "text/plain": [
       "       Health_indeces1  Health_indices2  Per_capita_income           GDP\n",
       "count     2.970000e+02     2.970000e+02       2.970000e+02  2.970000e+02\n",
       "mean      2.130731e-16     1.252272e-17       2.306423e-16  8.032295e-17\n",
       "std       1.001688e+00     1.001688e+00       1.001688e+00  1.001688e+00\n",
       "min      -1.330536e+00    -1.481634e+00      -1.121358e+00 -1.046096e+00\n",
       "25%      -9.961798e-01    -1.107825e+00      -9.496794e-01 -9.939707e-01\n",
       "50%      -6.655748e-02     2.485655e-01      -1.877260e-01 -2.242731e-01\n",
       "75%       7.475040e-01     8.103462e-01       6.672487e-01  8.298516e-01\n",
       "max       3.195338e+00     1.739527e+00       2.642582e+00  3.319468e+00"
      ]
     },
     "execution_count": 215,
     "metadata": {},
     "output_type": "execute_result"
    }
   ],
   "source": [
    "df.describe()"
   ]
  },
  {
   "cell_type": "code",
   "execution_count": 216,
   "metadata": {},
   "outputs": [],
   "source": [
    "sns.set_palette('Dark2')"
   ]
  },
  {
   "cell_type": "code",
   "execution_count": 217,
   "metadata": {},
   "outputs": [],
   "source": [
    "data= linkage(df, 'ward')"
   ]
  },
  {
   "cell_type": "code",
   "execution_count": 218,
   "metadata": {},
   "outputs": [],
   "source": [
    "data=pd.DataFrame(data , columns = ('Ind 1', 'Ind 2' , 'Distance' , '#Obscluster'))"
   ]
  },
  {
   "cell_type": "code",
   "execution_count": 220,
   "metadata": {},
   "outputs": [
    {
     "data": {
      "text/html": [
       "<div>\n",
       "<style scoped>\n",
       "    .dataframe tbody tr th:only-of-type {\n",
       "        vertical-align: middle;\n",
       "    }\n",
       "\n",
       "    .dataframe tbody tr th {\n",
       "        vertical-align: top;\n",
       "    }\n",
       "\n",
       "    .dataframe thead th {\n",
       "        text-align: right;\n",
       "    }\n",
       "</style>\n",
       "<table border=\"1\" class=\"dataframe\">\n",
       "  <thead>\n",
       "    <tr style=\"text-align: right;\">\n",
       "      <th></th>\n",
       "      <th>Ind 1</th>\n",
       "      <th>Ind 2</th>\n",
       "      <th>Distance</th>\n",
       "      <th>#Obscluster</th>\n",
       "    </tr>\n",
       "  </thead>\n",
       "  <tbody>\n",
       "    <tr>\n",
       "      <th>0</th>\n",
       "      <td>5.0</td>\n",
       "      <td>57.0</td>\n",
       "      <td>0.000000</td>\n",
       "      <td>2.0</td>\n",
       "    </tr>\n",
       "    <tr>\n",
       "      <th>1</th>\n",
       "      <td>184.0</td>\n",
       "      <td>230.0</td>\n",
       "      <td>0.000006</td>\n",
       "      <td>2.0</td>\n",
       "    </tr>\n",
       "    <tr>\n",
       "      <th>2</th>\n",
       "      <td>247.0</td>\n",
       "      <td>256.0</td>\n",
       "      <td>0.002136</td>\n",
       "      <td>2.0</td>\n",
       "    </tr>\n",
       "    <tr>\n",
       "      <th>3</th>\n",
       "      <td>116.0</td>\n",
       "      <td>131.0</td>\n",
       "      <td>0.003595</td>\n",
       "      <td>2.0</td>\n",
       "    </tr>\n",
       "    <tr>\n",
       "      <th>4</th>\n",
       "      <td>65.0</td>\n",
       "      <td>297.0</td>\n",
       "      <td>0.004151</td>\n",
       "      <td>3.0</td>\n",
       "    </tr>\n",
       "  </tbody>\n",
       "</table>\n",
       "</div>"
      ],
      "text/plain": [
       "   Ind 1  Ind 2  Distance  #Obscluster\n",
       "0    5.0   57.0  0.000000          2.0\n",
       "1  184.0  230.0  0.000006          2.0\n",
       "2  247.0  256.0  0.002136          2.0\n",
       "3  116.0  131.0  0.003595          2.0\n",
       "4   65.0  297.0  0.004151          3.0"
      ]
     },
     "execution_count": 220,
     "metadata": {},
     "output_type": "execute_result"
    }
   ],
   "source": [
    "data.head(5)"
   ]
  },
  {
   "cell_type": "code",
   "execution_count": 221,
   "metadata": {},
   "outputs": [
    {
     "data": {
      "image/png": "[encoded data removed]",
      "text/plain": [
       "<Figure size 432x288 with 1 Axes>"
      ]
     },
     "metadata": {},
     "output_type": "display_data"
    }
   ],
   "source": [
    "dend_data=dendrogram(data,10,'lastp')"
   ]
  },
  {
   "cell_type": "code",
   "execution_count": 222,
   "metadata": {},
   "outputs": [],
   "source": [
    "clusters=fcluster(data,15,'distance' )"
   ]
  },
  {
   "cell_type": "code",
   "execution_count": 226,
   "metadata": {},
   "outputs": [
    {
     "data": {
      "text/plain": [
       "3    103\n",
       "1     99\n",
       "2     95\n",
       "Name: 0, dtype: int64"
      ]
     },
     "execution_count": 226,
     "metadata": {},
     "output_type": "execute_result"
    }
   ],
   "source": [
    "clusters=pd.DataFrame(clusters)\n",
    "clusters[0].value_counts()"
   ]
  },
  {
   "cell_type": "code",
   "execution_count": 232,
   "metadata": {},
   "outputs": [],
   "source": [
    "df_org['clusters']= clusters"
   ]
  },
  {
   "cell_type": "code",
   "execution_count": 234,
   "metadata": {},
   "outputs": [
    {
     "data": {
      "text/html": [
       "<div>\n",
       "<style scoped>\n",
       "    .dataframe tbody tr th:only-of-type {\n",
       "        vertical-align: middle;\n",
       "    }\n",
       "\n",
       "    .dataframe tbody tr th {\n",
       "        vertical-align: top;\n",
       "    }\n",
       "\n",
       "    .dataframe thead th {\n",
       "        text-align: right;\n",
       "    }\n",
       "</style>\n",
       "<table border=\"1\" class=\"dataframe\">\n",
       "  <thead>\n",
       "    <tr style=\"text-align: right;\">\n",
       "      <th></th>\n",
       "      <th>Unnamed: 0</th>\n",
       "      <th>States</th>\n",
       "      <th>Health_indeces1</th>\n",
       "      <th>Health_indices2</th>\n",
       "      <th>Per_capita_income</th>\n",
       "      <th>GDP</th>\n",
       "      <th>clusters</th>\n",
       "    </tr>\n",
       "  </thead>\n",
       "  <tbody>\n",
       "    <tr>\n",
       "      <th>0</th>\n",
       "      <td>0</td>\n",
       "      <td>Bachevo</td>\n",
       "      <td>417</td>\n",
       "      <td>66</td>\n",
       "      <td>564</td>\n",
       "      <td>1823</td>\n",
       "      <td>2</td>\n",
       "    </tr>\n",
       "    <tr>\n",
       "      <th>1</th>\n",
       "      <td>1</td>\n",
       "      <td>Balgarchevo</td>\n",
       "      <td>1485</td>\n",
       "      <td>646</td>\n",
       "      <td>2710</td>\n",
       "      <td>73662</td>\n",
       "      <td>3</td>\n",
       "    </tr>\n",
       "    <tr>\n",
       "      <th>2</th>\n",
       "      <td>2</td>\n",
       "      <td>Belasitsa</td>\n",
       "      <td>654</td>\n",
       "      <td>299</td>\n",
       "      <td>1104</td>\n",
       "      <td>27318</td>\n",
       "      <td>2</td>\n",
       "    </tr>\n",
       "    <tr>\n",
       "      <th>3</th>\n",
       "      <td>3</td>\n",
       "      <td>Belo_Pole</td>\n",
       "      <td>192</td>\n",
       "      <td>25</td>\n",
       "      <td>573</td>\n",
       "      <td>250</td>\n",
       "      <td>2</td>\n",
       "    </tr>\n",
       "    <tr>\n",
       "      <th>4</th>\n",
       "      <td>4</td>\n",
       "      <td>Beslen</td>\n",
       "      <td>43</td>\n",
       "      <td>8</td>\n",
       "      <td>528</td>\n",
       "      <td>22</td>\n",
       "      <td>2</td>\n",
       "    </tr>\n",
       "    <tr>\n",
       "      <th>...</th>\n",
       "      <td>...</td>\n",
       "      <td>...</td>\n",
       "      <td>...</td>\n",
       "      <td>...</td>\n",
       "      <td>...</td>\n",
       "      <td>...</td>\n",
       "      <td>...</td>\n",
       "    </tr>\n",
       "    <tr>\n",
       "      <th>292</th>\n",
       "      <td>292</td>\n",
       "      <td>Greencastle</td>\n",
       "      <td>3443</td>\n",
       "      <td>970</td>\n",
       "      <td>2499</td>\n",
       "      <td>238636</td>\n",
       "      <td>3</td>\n",
       "    </tr>\n",
       "    <tr>\n",
       "      <th>293</th>\n",
       "      <td>293</td>\n",
       "      <td>Greenisland</td>\n",
       "      <td>2963</td>\n",
       "      <td>793</td>\n",
       "      <td>1257</td>\n",
       "      <td>162831</td>\n",
       "      <td>3</td>\n",
       "    </tr>\n",
       "    <tr>\n",
       "      <th>294</th>\n",
       "      <td>294</td>\n",
       "      <td>Greyabbey</td>\n",
       "      <td>3276</td>\n",
       "      <td>609</td>\n",
       "      <td>1522</td>\n",
       "      <td>120184</td>\n",
       "      <td>3</td>\n",
       "    </tr>\n",
       "    <tr>\n",
       "      <th>295</th>\n",
       "      <td>295</td>\n",
       "      <td>Greysteel</td>\n",
       "      <td>3463</td>\n",
       "      <td>847</td>\n",
       "      <td>934</td>\n",
       "      <td>199403</td>\n",
       "      <td>3</td>\n",
       "    </tr>\n",
       "    <tr>\n",
       "      <th>296</th>\n",
       "      <td>296</td>\n",
       "      <td>Groggan</td>\n",
       "      <td>2070</td>\n",
       "      <td>838</td>\n",
       "      <td>3179</td>\n",
       "      <td>166767</td>\n",
       "      <td>3</td>\n",
       "    </tr>\n",
       "  </tbody>\n",
       "</table>\n",
       "<p>297 rows × 7 columns</p>\n",
       "</div>"
      ],
      "text/plain": [
       "     Unnamed: 0       States  Health_indeces1  Health_indices2  \\\n",
       "0             0      Bachevo              417               66   \n",
       "1             1  Balgarchevo             1485              646   \n",
       "2             2    Belasitsa              654              299   \n",
       "3             3    Belo_Pole              192               25   \n",
       "4             4       Beslen               43                8   \n",
       "..          ...          ...              ...              ...   \n",
       "292         292  Greencastle             3443              970   \n",
       "293         293  Greenisland             2963              793   \n",
       "294         294    Greyabbey             3276              609   \n",
       "295         295    Greysteel             3463              847   \n",
       "296         296      Groggan             2070              838   \n",
       "\n",
       "     Per_capita_income     GDP  clusters  \n",
       "0                  564    1823         2  \n",
       "1                 2710   73662         3  \n",
       "2                 1104   27318         2  \n",
       "3                  573     250         2  \n",
       "4                  528      22         2  \n",
       "..                 ...     ...       ...  \n",
       "292               2499  238636         3  \n",
       "293               1257  162831         3  \n",
       "294               1522  120184         3  \n",
       "295                934  199403         3  \n",
       "296               3179  166767         3  \n",
       "\n",
       "[297 rows x 7 columns]"
      ]
     },
     "execution_count": 234,
     "metadata": {},
     "output_type": "execute_result"
    }
   ],
   "source": [
    "df_org"
   ]
  },
  {
   "cell_type": "code",
   "execution_count": 236,
   "metadata": {},
   "outputs": [],
   "source": [
    "df_org.to_csv('Heirarchial_Cluster.csv')"
   ]
  },
  {
   "cell_type": "markdown",
   "metadata": {},
   "source": [
    "## K means clustering"
   ]
  },
  {
   "cell_type": "code",
   "execution_count": 237,
   "metadata": {},
   "outputs": [],
   "source": [
    "df=pd.read_csv('State_wise_Health_income-1.csv')"
   ]
  },
  {
   "cell_type": "code",
   "execution_count": 238,
   "metadata": {},
   "outputs": [
    {
     "data": {
      "text/html": [
       "<div>\n",
       "<style scoped>\n",
       "    .dataframe tbody tr th:only-of-type {\n",
       "        vertical-align: middle;\n",
       "    }\n",
       "\n",
       "    .dataframe tbody tr th {\n",
       "        vertical-align: top;\n",
       "    }\n",
       "\n",
       "    .dataframe thead th {\n",
       "        text-align: right;\n",
       "    }\n",
       "</style>\n",
       "<table border=\"1\" class=\"dataframe\">\n",
       "  <thead>\n",
       "    <tr style=\"text-align: right;\">\n",
       "      <th></th>\n",
       "      <th>Unnamed: 0</th>\n",
       "      <th>States</th>\n",
       "      <th>Health_indeces1</th>\n",
       "      <th>Health_indices2</th>\n",
       "      <th>Per_capita_income</th>\n",
       "      <th>GDP</th>\n",
       "    </tr>\n",
       "  </thead>\n",
       "  <tbody>\n",
       "    <tr>\n",
       "      <th>0</th>\n",
       "      <td>0</td>\n",
       "      <td>Bachevo</td>\n",
       "      <td>417</td>\n",
       "      <td>66</td>\n",
       "      <td>564</td>\n",
       "      <td>1823</td>\n",
       "    </tr>\n",
       "    <tr>\n",
       "      <th>1</th>\n",
       "      <td>1</td>\n",
       "      <td>Balgarchevo</td>\n",
       "      <td>1485</td>\n",
       "      <td>646</td>\n",
       "      <td>2710</td>\n",
       "      <td>73662</td>\n",
       "    </tr>\n",
       "    <tr>\n",
       "      <th>2</th>\n",
       "      <td>2</td>\n",
       "      <td>Belasitsa</td>\n",
       "      <td>654</td>\n",
       "      <td>299</td>\n",
       "      <td>1104</td>\n",
       "      <td>27318</td>\n",
       "    </tr>\n",
       "    <tr>\n",
       "      <th>3</th>\n",
       "      <td>3</td>\n",
       "      <td>Belo_Pole</td>\n",
       "      <td>192</td>\n",
       "      <td>25</td>\n",
       "      <td>573</td>\n",
       "      <td>250</td>\n",
       "    </tr>\n",
       "    <tr>\n",
       "      <th>4</th>\n",
       "      <td>4</td>\n",
       "      <td>Beslen</td>\n",
       "      <td>43</td>\n",
       "      <td>8</td>\n",
       "      <td>528</td>\n",
       "      <td>22</td>\n",
       "    </tr>\n",
       "    <tr>\n",
       "      <th>...</th>\n",
       "      <td>...</td>\n",
       "      <td>...</td>\n",
       "      <td>...</td>\n",
       "      <td>...</td>\n",
       "      <td>...</td>\n",
       "      <td>...</td>\n",
       "    </tr>\n",
       "    <tr>\n",
       "      <th>292</th>\n",
       "      <td>292</td>\n",
       "      <td>Greencastle</td>\n",
       "      <td>3443</td>\n",
       "      <td>970</td>\n",
       "      <td>2499</td>\n",
       "      <td>238636</td>\n",
       "    </tr>\n",
       "    <tr>\n",
       "      <th>293</th>\n",
       "      <td>293</td>\n",
       "      <td>Greenisland</td>\n",
       "      <td>2963</td>\n",
       "      <td>793</td>\n",
       "      <td>1257</td>\n",
       "      <td>162831</td>\n",
       "    </tr>\n",
       "    <tr>\n",
       "      <th>294</th>\n",
       "      <td>294</td>\n",
       "      <td>Greyabbey</td>\n",
       "      <td>3276</td>\n",
       "      <td>609</td>\n",
       "      <td>1522</td>\n",
       "      <td>120184</td>\n",
       "    </tr>\n",
       "    <tr>\n",
       "      <th>295</th>\n",
       "      <td>295</td>\n",
       "      <td>Greysteel</td>\n",
       "      <td>3463</td>\n",
       "      <td>847</td>\n",
       "      <td>934</td>\n",
       "      <td>199403</td>\n",
       "    </tr>\n",
       "    <tr>\n",
       "      <th>296</th>\n",
       "      <td>296</td>\n",
       "      <td>Groggan</td>\n",
       "      <td>2070</td>\n",
       "      <td>838</td>\n",
       "      <td>3179</td>\n",
       "      <td>166767</td>\n",
       "    </tr>\n",
       "  </tbody>\n",
       "</table>\n",
       "<p>297 rows × 6 columns</p>\n",
       "</div>"
      ],
      "text/plain": [
       "     Unnamed: 0       States  Health_indeces1  Health_indices2  \\\n",
       "0             0      Bachevo              417               66   \n",
       "1             1  Balgarchevo             1485              646   \n",
       "2             2    Belasitsa              654              299   \n",
       "3             3    Belo_Pole              192               25   \n",
       "4             4       Beslen               43                8   \n",
       "..          ...          ...              ...              ...   \n",
       "292         292  Greencastle             3443              970   \n",
       "293         293  Greenisland             2963              793   \n",
       "294         294    Greyabbey             3276              609   \n",
       "295         295    Greysteel             3463              847   \n",
       "296         296      Groggan             2070              838   \n",
       "\n",
       "     Per_capita_income     GDP  \n",
       "0                  564    1823  \n",
       "1                 2710   73662  \n",
       "2                 1104   27318  \n",
       "3                  573     250  \n",
       "4                  528      22  \n",
       "..                 ...     ...  \n",
       "292               2499  238636  \n",
       "293               1257  162831  \n",
       "294               1522  120184  \n",
       "295                934  199403  \n",
       "296               3179  166767  \n",
       "\n",
       "[297 rows x 6 columns]"
      ]
     },
     "execution_count": 238,
     "metadata": {},
     "output_type": "execute_result"
    }
   ],
   "source": [
    "df"
   ]
  },
  {
   "cell_type": "code",
   "execution_count": 239,
   "metadata": {},
   "outputs": [],
   "source": [
    "df.drop('Unnamed: 0', axis=1, inplace= True)"
   ]
  },
  {
   "cell_type": "code",
   "execution_count": 240,
   "metadata": {},
   "outputs": [
    {
     "data": {
      "text/html": [
       "<div>\n",
       "<style scoped>\n",
       "    .dataframe tbody tr th:only-of-type {\n",
       "        vertical-align: middle;\n",
       "    }\n",
       "\n",
       "    .dataframe tbody tr th {\n",
       "        vertical-align: top;\n",
       "    }\n",
       "\n",
       "    .dataframe thead th {\n",
       "        text-align: right;\n",
       "    }\n",
       "</style>\n",
       "<table border=\"1\" class=\"dataframe\">\n",
       "  <thead>\n",
       "    <tr style=\"text-align: right;\">\n",
       "      <th></th>\n",
       "      <th>States</th>\n",
       "      <th>Health_indeces1</th>\n",
       "      <th>Health_indices2</th>\n",
       "      <th>Per_capita_income</th>\n",
       "      <th>GDP</th>\n",
       "    </tr>\n",
       "  </thead>\n",
       "  <tbody>\n",
       "    <tr>\n",
       "      <th>0</th>\n",
       "      <td>Bachevo</td>\n",
       "      <td>417</td>\n",
       "      <td>66</td>\n",
       "      <td>564</td>\n",
       "      <td>1823</td>\n",
       "    </tr>\n",
       "    <tr>\n",
       "      <th>1</th>\n",
       "      <td>Balgarchevo</td>\n",
       "      <td>1485</td>\n",
       "      <td>646</td>\n",
       "      <td>2710</td>\n",
       "      <td>73662</td>\n",
       "    </tr>\n",
       "    <tr>\n",
       "      <th>2</th>\n",
       "      <td>Belasitsa</td>\n",
       "      <td>654</td>\n",
       "      <td>299</td>\n",
       "      <td>1104</td>\n",
       "      <td>27318</td>\n",
       "    </tr>\n",
       "    <tr>\n",
       "      <th>3</th>\n",
       "      <td>Belo_Pole</td>\n",
       "      <td>192</td>\n",
       "      <td>25</td>\n",
       "      <td>573</td>\n",
       "      <td>250</td>\n",
       "    </tr>\n",
       "    <tr>\n",
       "      <th>4</th>\n",
       "      <td>Beslen</td>\n",
       "      <td>43</td>\n",
       "      <td>8</td>\n",
       "      <td>528</td>\n",
       "      <td>22</td>\n",
       "    </tr>\n",
       "    <tr>\n",
       "      <th>...</th>\n",
       "      <td>...</td>\n",
       "      <td>...</td>\n",
       "      <td>...</td>\n",
       "      <td>...</td>\n",
       "      <td>...</td>\n",
       "    </tr>\n",
       "    <tr>\n",
       "      <th>292</th>\n",
       "      <td>Greencastle</td>\n",
       "      <td>3443</td>\n",
       "      <td>970</td>\n",
       "      <td>2499</td>\n",
       "      <td>238636</td>\n",
       "    </tr>\n",
       "    <tr>\n",
       "      <th>293</th>\n",
       "      <td>Greenisland</td>\n",
       "      <td>2963</td>\n",
       "      <td>793</td>\n",
       "      <td>1257</td>\n",
       "      <td>162831</td>\n",
       "    </tr>\n",
       "    <tr>\n",
       "      <th>294</th>\n",
       "      <td>Greyabbey</td>\n",
       "      <td>3276</td>\n",
       "      <td>609</td>\n",
       "      <td>1522</td>\n",
       "      <td>120184</td>\n",
       "    </tr>\n",
       "    <tr>\n",
       "      <th>295</th>\n",
       "      <td>Greysteel</td>\n",
       "      <td>3463</td>\n",
       "      <td>847</td>\n",
       "      <td>934</td>\n",
       "      <td>199403</td>\n",
       "    </tr>\n",
       "    <tr>\n",
       "      <th>296</th>\n",
       "      <td>Groggan</td>\n",
       "      <td>2070</td>\n",
       "      <td>838</td>\n",
       "      <td>3179</td>\n",
       "      <td>166767</td>\n",
       "    </tr>\n",
       "  </tbody>\n",
       "</table>\n",
       "<p>297 rows × 5 columns</p>\n",
       "</div>"
      ],
      "text/plain": [
       "          States  Health_indeces1  Health_indices2  Per_capita_income     GDP\n",
       "0        Bachevo              417               66                564    1823\n",
       "1    Balgarchevo             1485              646               2710   73662\n",
       "2      Belasitsa              654              299               1104   27318\n",
       "3      Belo_Pole              192               25                573     250\n",
       "4         Beslen               43                8                528      22\n",
       "..           ...              ...              ...                ...     ...\n",
       "292  Greencastle             3443              970               2499  238636\n",
       "293  Greenisland             2963              793               1257  162831\n",
       "294    Greyabbey             3276              609               1522  120184\n",
       "295    Greysteel             3463              847                934  199403\n",
       "296      Groggan             2070              838               3179  166767\n",
       "\n",
       "[297 rows x 5 columns]"
      ]
     },
     "execution_count": 240,
     "metadata": {},
     "output_type": "execute_result"
    }
   ],
   "source": [
    "df"
   ]
  },
  {
   "cell_type": "code",
   "execution_count": 241,
   "metadata": {},
   "outputs": [
    {
     "data": {
      "text/html": [
       "<div>\n",
       "<style scoped>\n",
       "    .dataframe tbody tr th:only-of-type {\n",
       "        vertical-align: middle;\n",
       "    }\n",
       "\n",
       "    .dataframe tbody tr th {\n",
       "        vertical-align: top;\n",
       "    }\n",
       "\n",
       "    .dataframe thead th {\n",
       "        text-align: right;\n",
       "    }\n",
       "</style>\n",
       "<table border=\"1\" class=\"dataframe\">\n",
       "  <thead>\n",
       "    <tr style=\"text-align: right;\">\n",
       "      <th></th>\n",
       "      <th>States</th>\n",
       "      <th>Health_indeces1</th>\n",
       "      <th>Health_indices2</th>\n",
       "      <th>Per_capita_income</th>\n",
       "      <th>GDP</th>\n",
       "    </tr>\n",
       "  </thead>\n",
       "  <tbody>\n",
       "    <tr>\n",
       "      <th>0</th>\n",
       "      <td>Bachevo</td>\n",
       "      <td>417</td>\n",
       "      <td>66</td>\n",
       "      <td>564</td>\n",
       "      <td>1823</td>\n",
       "    </tr>\n",
       "    <tr>\n",
       "      <th>1</th>\n",
       "      <td>Balgarchevo</td>\n",
       "      <td>1485</td>\n",
       "      <td>646</td>\n",
       "      <td>2710</td>\n",
       "      <td>73662</td>\n",
       "    </tr>\n",
       "    <tr>\n",
       "      <th>2</th>\n",
       "      <td>Belasitsa</td>\n",
       "      <td>654</td>\n",
       "      <td>299</td>\n",
       "      <td>1104</td>\n",
       "      <td>27318</td>\n",
       "    </tr>\n",
       "    <tr>\n",
       "      <th>3</th>\n",
       "      <td>Belo_Pole</td>\n",
       "      <td>192</td>\n",
       "      <td>25</td>\n",
       "      <td>573</td>\n",
       "      <td>250</td>\n",
       "    </tr>\n",
       "    <tr>\n",
       "      <th>4</th>\n",
       "      <td>Beslen</td>\n",
       "      <td>43</td>\n",
       "      <td>8</td>\n",
       "      <td>528</td>\n",
       "      <td>22</td>\n",
       "    </tr>\n",
       "    <tr>\n",
       "      <th>...</th>\n",
       "      <td>...</td>\n",
       "      <td>...</td>\n",
       "      <td>...</td>\n",
       "      <td>...</td>\n",
       "      <td>...</td>\n",
       "    </tr>\n",
       "    <tr>\n",
       "      <th>292</th>\n",
       "      <td>Greencastle</td>\n",
       "      <td>3443</td>\n",
       "      <td>970</td>\n",
       "      <td>2499</td>\n",
       "      <td>238636</td>\n",
       "    </tr>\n",
       "    <tr>\n",
       "      <th>293</th>\n",
       "      <td>Greenisland</td>\n",
       "      <td>2963</td>\n",
       "      <td>793</td>\n",
       "      <td>1257</td>\n",
       "      <td>162831</td>\n",
       "    </tr>\n",
       "    <tr>\n",
       "      <th>294</th>\n",
       "      <td>Greyabbey</td>\n",
       "      <td>3276</td>\n",
       "      <td>609</td>\n",
       "      <td>1522</td>\n",
       "      <td>120184</td>\n",
       "    </tr>\n",
       "    <tr>\n",
       "      <th>295</th>\n",
       "      <td>Greysteel</td>\n",
       "      <td>3463</td>\n",
       "      <td>847</td>\n",
       "      <td>934</td>\n",
       "      <td>199403</td>\n",
       "    </tr>\n",
       "    <tr>\n",
       "      <th>296</th>\n",
       "      <td>Groggan</td>\n",
       "      <td>2070</td>\n",
       "      <td>838</td>\n",
       "      <td>3179</td>\n",
       "      <td>166767</td>\n",
       "    </tr>\n",
       "  </tbody>\n",
       "</table>\n",
       "<p>297 rows × 5 columns</p>\n",
       "</div>"
      ],
      "text/plain": [
       "          States  Health_indeces1  Health_indices2  Per_capita_income     GDP\n",
       "0        Bachevo              417               66                564    1823\n",
       "1    Balgarchevo             1485              646               2710   73662\n",
       "2      Belasitsa              654              299               1104   27318\n",
       "3      Belo_Pole              192               25                573     250\n",
       "4         Beslen               43                8                528      22\n",
       "..           ...              ...              ...                ...     ...\n",
       "292  Greencastle             3443              970               2499  238636\n",
       "293  Greenisland             2963              793               1257  162831\n",
       "294    Greyabbey             3276              609               1522  120184\n",
       "295    Greysteel             3463              847                934  199403\n",
       "296      Groggan             2070              838               3179  166767\n",
       "\n",
       "[297 rows x 5 columns]"
      ]
     },
     "execution_count": 241,
     "metadata": {},
     "output_type": "execute_result"
    }
   ],
   "source": [
    "df"
   ]
  },
  {
   "cell_type": "code",
   "execution_count": 242,
   "metadata": {},
   "outputs": [],
   "source": [
    "df.drop('States', axis= 1, inplace= True)"
   ]
  },
  {
   "cell_type": "code",
   "execution_count": 243,
   "metadata": {},
   "outputs": [
    {
     "data": {
      "text/plain": [
       "array([[-1.08750595, -1.34065436, -1.06954449, -1.03530421],\n",
       "       [-0.56270846, -0.10174638,  0.37136183, -0.60483755],\n",
       "       [-0.97104808, -0.84295512, -0.70696788, -0.88253555],\n",
       "       ...,\n",
       "       [ 0.31735924, -0.18078016, -0.42630672, -0.32607295],\n",
       "       [ 0.40924793,  0.32759932, -0.82111237,  0.14861542],\n",
       "       [-0.27524917,  0.30837488,  0.68626633, -0.04694284]])"
      ]
     },
     "execution_count": 243,
     "metadata": {},
     "output_type": "execute_result"
    }
   ],
   "source": [
    "df_d=stats.zscore(df)\n",
    "df_d"
   ]
  },
  {
   "cell_type": "code",
   "execution_count": 244,
   "metadata": {},
   "outputs": [],
   "source": [
    "data3=KMeans(3)"
   ]
  },
  {
   "cell_type": "code",
   "execution_count": 245,
   "metadata": {},
   "outputs": [],
   "source": [
    "data4 = KMeans(4)\n"
   ]
  },
  {
   "cell_type": "code",
   "execution_count": 246,
   "metadata": {},
   "outputs": [
    {
     "data": {
      "text/plain": [
       "KMeans(n_clusters=4)"
      ]
     },
     "execution_count": 246,
     "metadata": {},
     "output_type": "execute_result"
    }
   ],
   "source": [
    "data4.fit(df_d)"
   ]
  },
  {
   "cell_type": "code",
   "execution_count": 247,
   "metadata": {},
   "outputs": [],
   "source": [
    "data3=KMeans(3).fit(df_d)"
   ]
  },
  {
   "cell_type": "code",
   "execution_count": 248,
   "metadata": {},
   "outputs": [
    {
     "data": {
      "text/plain": [
       "KMeans(n_clusters=3)"
      ]
     },
     "execution_count": 248,
     "metadata": {},
     "output_type": "execute_result"
    }
   ],
   "source": [
    "data3"
   ]
  },
  {
   "cell_type": "code",
   "execution_count": 249,
   "metadata": {},
   "outputs": [
    {
     "data": {
      "text/plain": [
       "array([0, 2, 0, 0, 0, 0, 0, 1, 0, 2, 0, 0, 0, 0, 0, 0, 1, 0, 0, 1, 2, 0,\n",
       "       0, 0, 2, 0, 0, 2, 2, 0, 0, 0, 0, 1, 0, 0, 1, 2, 0, 2, 0, 0, 2, 2,\n",
       "       2, 0, 0, 2, 0, 0, 0, 2, 0, 1, 0, 2, 2, 0, 0, 2, 2, 0, 0, 1, 2, 0,\n",
       "       2, 0, 0, 0, 0, 2, 0, 0, 0, 0, 2, 2, 0, 0, 0, 0, 0, 0, 0, 2, 0, 0,\n",
       "       0, 1, 0, 0, 0, 0, 0, 0, 2, 0, 0, 2, 0, 0, 1, 0, 2, 0, 2, 2, 0, 0,\n",
       "       0, 1, 2, 2, 0, 0, 0, 2, 0, 0, 2, 0, 0, 0, 1, 0, 2, 0, 0, 2, 0, 0,\n",
       "       0, 0, 0, 0, 0, 0, 0, 2, 0, 2, 0, 0, 0, 2, 1, 0, 2, 0, 1, 1, 1, 1,\n",
       "       1, 1, 1, 1, 1, 1, 1, 1, 1, 1, 1, 1, 1, 1, 1, 1, 1, 1, 1, 1, 1, 1,\n",
       "       1, 1, 1, 1, 1, 1, 1, 1, 1, 2, 1, 1, 1, 1, 1, 1, 1, 1, 1, 1, 1, 1,\n",
       "       1, 1, 1, 1, 1, 1, 1, 1, 2, 1, 1, 1, 1, 1, 1, 1, 1, 1, 1, 1, 1, 1,\n",
       "       1, 1, 1, 1, 2, 1, 1, 1, 1, 1, 1, 1, 1, 1, 1, 1, 2, 2, 2, 2, 2, 2,\n",
       "       2, 2, 2, 0, 2, 2, 2, 2, 2, 2, 2, 2, 2, 2, 2, 2, 2, 2, 2, 2, 2, 2,\n",
       "       2, 2, 2, 2, 2, 2, 2, 2, 2, 2, 2, 2, 2, 2, 2, 2, 2, 2, 2, 2, 2, 2,\n",
       "       2, 2, 2, 2, 2, 2, 2, 2, 2, 2, 2])"
      ]
     },
     "execution_count": 249,
     "metadata": {},
     "output_type": "execute_result"
    }
   ],
   "source": [
    "data3.labels_"
   ]
  },
  {
   "cell_type": "code",
   "execution_count": 250,
   "metadata": {},
   "outputs": [],
   "source": [
    "k3=data3.inertia_"
   ]
  },
  {
   "cell_type": "code",
   "execution_count": 251,
   "metadata": {},
   "outputs": [],
   "source": [
    "data2= KMeans(2).fit(df_d)"
   ]
  },
  {
   "cell_type": "code",
   "execution_count": 252,
   "metadata": {},
   "outputs": [],
   "source": [
    "k2= data2.inertia_"
   ]
  },
  {
   "cell_type": "code",
   "execution_count": 253,
   "metadata": {},
   "outputs": [],
   "source": [
    "k4data= KMeans(4).fit(df_d)"
   ]
  },
  {
   "cell_type": "code",
   "execution_count": 254,
   "metadata": {},
   "outputs": [],
   "source": [
    "k4= k4data.inertia_"
   ]
  },
  {
   "cell_type": "code",
   "execution_count": 255,
   "metadata": {},
   "outputs": [],
   "source": [
    "k5data=KMeans(5).fit(df_d)"
   ]
  },
  {
   "cell_type": "code",
   "execution_count": 256,
   "metadata": {},
   "outputs": [],
   "source": [
    "k5=k5data.inertia_"
   ]
  },
  {
   "cell_type": "code",
   "execution_count": 257,
   "metadata": {},
   "outputs": [
    {
     "data": {
      "text/plain": [
       "array([3, 4, 5, 6, 7, 8, 9])"
      ]
     },
     "execution_count": 257,
     "metadata": {},
     "output_type": "execute_result"
    }
   ],
   "source": [
    "np.arange(3,10)"
   ]
  },
  {
   "cell_type": "code",
   "execution_count": 258,
   "metadata": {},
   "outputs": [
    {
     "data": {
      "text/plain": [
       "<matplotlib.axes._subplots.AxesSubplot at 0x2960d480988>"
      ]
     },
     "execution_count": 258,
     "metadata": {},
     "output_type": "execute_result"
    },
    {
     "data": {
      "image/png": "[encoded data removed]",
      "text/plain": [
       "<Figure size 432x288 with 1 Axes>"
      ]
     },
     "metadata": {},
     "output_type": "display_data"
    }
   ],
   "source": [
    "sns.lineplot(np.arange(2,6),list)"
   ]
  },
  {
   "cell_type": "code",
   "execution_count": 259,
   "metadata": {},
   "outputs": [],
   "source": [
    "list= (k2,k3,k4,k5)"
   ]
  },
  {
   "cell_type": "code",
   "execution_count": 260,
   "metadata": {},
   "outputs": [
    {
     "data": {
      "text/plain": [
       "(471.35934639899426, 260.5729408376231, 183.60983976801245, 149.787873629525)"
      ]
     },
     "execution_count": 260,
     "metadata": {},
     "output_type": "execute_result"
    }
   ],
   "source": [
    "list"
   ]
  },
  {
   "cell_type": "code",
   "execution_count": 261,
   "metadata": {},
   "outputs": [],
   "source": [
    "kclus5=k5data.labels_"
   ]
  },
  {
   "cell_type": "code",
   "execution_count": 272,
   "metadata": {},
   "outputs": [],
   "source": [
    "kclus4=data4.labels_"
   ]
  },
  {
   "cell_type": "code",
   "execution_count": 273,
   "metadata": {},
   "outputs": [
    {
     "data": {
      "text/plain": [
       "0.5335432108748761"
      ]
     },
     "execution_count": 273,
     "metadata": {},
     "output_type": "execute_result"
    }
   ],
   "source": [
    "silhouette_score(df_d,kclus3)"
   ]
  },
  {
   "cell_type": "code",
   "execution_count": 274,
   "metadata": {},
   "outputs": [],
   "source": [
    "kclus3= data3.labels_"
   ]
  },
  {
   "cell_type": "code",
   "execution_count": 275,
   "metadata": {},
   "outputs": [],
   "source": [
    "df['KClusters']= kclus3"
   ]
  },
  {
   "cell_type": "code",
   "execution_count": 276,
   "metadata": {},
   "outputs": [
    {
     "data": {
      "text/html": [
       "<div>\n",
       "<style scoped>\n",
       "    .dataframe tbody tr th:only-of-type {\n",
       "        vertical-align: middle;\n",
       "    }\n",
       "\n",
       "    .dataframe tbody tr th {\n",
       "        vertical-align: top;\n",
       "    }\n",
       "\n",
       "    .dataframe thead th {\n",
       "        text-align: right;\n",
       "    }\n",
       "</style>\n",
       "<table border=\"1\" class=\"dataframe\">\n",
       "  <thead>\n",
       "    <tr style=\"text-align: right;\">\n",
       "      <th></th>\n",
       "      <th>Health_indeces1</th>\n",
       "      <th>Health_indices2</th>\n",
       "      <th>Per_capita_income</th>\n",
       "      <th>GDP</th>\n",
       "      <th>KClusters</th>\n",
       "    </tr>\n",
       "  </thead>\n",
       "  <tbody>\n",
       "    <tr>\n",
       "      <th>0</th>\n",
       "      <td>417</td>\n",
       "      <td>66</td>\n",
       "      <td>564</td>\n",
       "      <td>1823</td>\n",
       "      <td>0</td>\n",
       "    </tr>\n",
       "    <tr>\n",
       "      <th>1</th>\n",
       "      <td>1485</td>\n",
       "      <td>646</td>\n",
       "      <td>2710</td>\n",
       "      <td>73662</td>\n",
       "      <td>2</td>\n",
       "    </tr>\n",
       "    <tr>\n",
       "      <th>2</th>\n",
       "      <td>654</td>\n",
       "      <td>299</td>\n",
       "      <td>1104</td>\n",
       "      <td>27318</td>\n",
       "      <td>0</td>\n",
       "    </tr>\n",
       "    <tr>\n",
       "      <th>3</th>\n",
       "      <td>192</td>\n",
       "      <td>25</td>\n",
       "      <td>573</td>\n",
       "      <td>250</td>\n",
       "      <td>0</td>\n",
       "    </tr>\n",
       "    <tr>\n",
       "      <th>4</th>\n",
       "      <td>43</td>\n",
       "      <td>8</td>\n",
       "      <td>528</td>\n",
       "      <td>22</td>\n",
       "      <td>0</td>\n",
       "    </tr>\n",
       "    <tr>\n",
       "      <th>...</th>\n",
       "      <td>...</td>\n",
       "      <td>...</td>\n",
       "      <td>...</td>\n",
       "      <td>...</td>\n",
       "      <td>...</td>\n",
       "    </tr>\n",
       "    <tr>\n",
       "      <th>292</th>\n",
       "      <td>3443</td>\n",
       "      <td>970</td>\n",
       "      <td>2499</td>\n",
       "      <td>238636</td>\n",
       "      <td>2</td>\n",
       "    </tr>\n",
       "    <tr>\n",
       "      <th>293</th>\n",
       "      <td>2963</td>\n",
       "      <td>793</td>\n",
       "      <td>1257</td>\n",
       "      <td>162831</td>\n",
       "      <td>2</td>\n",
       "    </tr>\n",
       "    <tr>\n",
       "      <th>294</th>\n",
       "      <td>3276</td>\n",
       "      <td>609</td>\n",
       "      <td>1522</td>\n",
       "      <td>120184</td>\n",
       "      <td>2</td>\n",
       "    </tr>\n",
       "    <tr>\n",
       "      <th>295</th>\n",
       "      <td>3463</td>\n",
       "      <td>847</td>\n",
       "      <td>934</td>\n",
       "      <td>199403</td>\n",
       "      <td>2</td>\n",
       "    </tr>\n",
       "    <tr>\n",
       "      <th>296</th>\n",
       "      <td>2070</td>\n",
       "      <td>838</td>\n",
       "      <td>3179</td>\n",
       "      <td>166767</td>\n",
       "      <td>2</td>\n",
       "    </tr>\n",
       "  </tbody>\n",
       "</table>\n",
       "<p>297 rows × 5 columns</p>\n",
       "</div>"
      ],
      "text/plain": [
       "     Health_indeces1  Health_indices2  Per_capita_income     GDP  KClusters\n",
       "0                417               66                564    1823          0\n",
       "1               1485              646               2710   73662          2\n",
       "2                654              299               1104   27318          0\n",
       "3                192               25                573     250          0\n",
       "4                 43                8                528      22          0\n",
       "..               ...              ...                ...     ...        ...\n",
       "292             3443              970               2499  238636          2\n",
       "293             2963              793               1257  162831          2\n",
       "294             3276              609               1522  120184          2\n",
       "295             3463              847                934  199403          2\n",
       "296             2070              838               3179  166767          2\n",
       "\n",
       "[297 rows x 5 columns]"
      ]
     },
     "execution_count": 276,
     "metadata": {},
     "output_type": "execute_result"
    }
   ],
   "source": [
    "df"
   ]
  },
  {
   "cell_type": "code",
   "execution_count": 277,
   "metadata": {},
   "outputs": [],
   "source": [
    "df.to_csv('K_cluster_f.csv')"
   ]
  },
  {
   "cell_type": "code",
   "execution_count": 117,
   "metadata": {},
   "outputs": [],
   "source": []
  },
  {
   "cell_type": "code",
   "execution_count": 120,
   "metadata": {},
   "outputs": [],
   "source": []
  },
  {
   "cell_type": "code",
   "execution_count": 124,
   "metadata": {},
   "outputs": [],
   "source": []
  },
  {
   "cell_type": "code",
   "execution_count": null,
   "metadata": {},
   "outputs": [],
   "source": []
  },
  {
   "cell_type": "code",
   "execution_count": null,
   "metadata": {},
   "outputs": [],
   "source": []
  },
  {
   "cell_type": "code",
   "execution_count": 279,
   "metadata": {},
   "outputs": [],
   "source": []
  },
  {
   "cell_type": "code",
   "execution_count": 280,
   "metadata": {},
   "outputs": [],
   "source": []
  },
  {
   "cell_type": "code",
   "execution_count": 281,
   "metadata": {},
   "outputs": [],
   "source": []
  },
  {
   "cell_type": "code",
   "execution_count": null,
   "metadata": {},
   "outputs": [],
   "source": []
  },
  {
   "cell_type": "code",
   "execution_count": null,
   "metadata": {},
   "outputs": [],
   "source": []
  },
  {
   "cell_type": "code",
   "execution_count": null,
   "metadata": {},
   "outputs": [],
   "source": []
  },
  {
   "cell_type": "code",
   "execution_count": null,
   "metadata": {},
   "outputs": [],
   "source": []
  },
  {
   "cell_type": "code",
   "execution_count": null,
   "metadata": {},
   "outputs": [],
   "source": []
  },
  {
   "cell_type": "code",
   "execution_count": null,
   "metadata": {},
   "outputs": [],
   "source": []
  },
  {
   "cell_type": "code",
   "execution_count": null,
   "metadata": {},
   "outputs": [],
   "source": []
  }
 ],
 "metadata": {
  "kernelspec": {
   "display_name": "Python 3",
   "language": "python",
   "name": "python3"
  },
  "language_info": {
   "codemirror_mode": {
    "name": "ipython",
    "version": 3
   },
   "file_extension": ".py",
   "mimetype": "text/x-python",
   "name": "python",
   "nbconvert_exporter": "python",
   "pygments_lexer": "ipython3",
   "version": "3.7.6"
  }
 },
 "nbformat": 4,
 "nbformat_minor": 4
}
